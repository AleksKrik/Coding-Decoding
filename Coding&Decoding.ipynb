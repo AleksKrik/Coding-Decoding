{
 "cells": [
  {
   "cell_type": "code",
   "execution_count": 4,
   "metadata": {},
   "outputs": [
    {
     "name": "stdout",
     "output_type": "stream",
     "text": [
      "Исходная строка: У черта на рогах\n",
      "Ключ: 6\n",
      "Кодируем: Уао  гчнаеахр тр\n",
      "Декодируем: У черта на рогах\n"
     ]
    }
   ],
   "source": [
    "strtocode = 'У черта на рогах'\n",
    "keycode = 6\n",
    "def encode(s:str, k:int=1):\n",
    "    d = {x+1:'' for x in range(k)}\n",
    "    for i in [s[0+x:k+x] for x in range(0, len(s), k)]:\n",
    "        c = 1\n",
    "        for j in i:\n",
    "            d[c] += j\n",
    "            c += 1\n",
    "    return ''.join([x for x in d.values()])\n",
    "\n",
    "def decode(s:str, k:int=1):\n",
    "    d = {x+1:'' for x in range(k)}\n",
    "    c=0\n",
    "    v=1\n",
    "    h=(len(s)-(len(s)//k)*k)\n",
    "    while(v<=h):\n",
    "        for j in range((len(s)//k)+1): \n",
    "            d[v] += s[j+c]\n",
    "        c +=(len(s)//k)+1\n",
    "        v +=1\n",
    "    while(v<k+1):\n",
    "        for j in range((len(s)//k)):\n",
    "            d[v] += s[j+c]\n",
    "        c +=(len(s)//k)\n",
    "        v +=1\n",
    "    x = []\n",
    "    c=0\n",
    "    while(c<(len(s)//k)):\n",
    "        for j in d.values():\n",
    "            x.append(j[c])\n",
    "        c+=1\n",
    "    for i in range(h):\n",
    "        x.append(d[i+1][-1])\n",
    "    return ''.join(x)\n",
    " \n",
    "print('Исходная строка:',strtocode)\n",
    "print('Ключ:',keycode)\n",
    "print('Кодируем:',encode(strtocode,keycode))\n",
    "print('Декодируем:',decode(encode(strtocode,keycode),keycode))"
   ]
  },
  {
   "cell_type": "code",
   "execution_count": null,
   "metadata": {},
   "outputs": [],
   "source": []
  },
  {
   "cell_type": "code",
   "execution_count": null,
   "metadata": {},
   "outputs": [],
   "source": []
  }
 ],
 "metadata": {
  "kernelspec": {
   "display_name": "Python 3",
   "language": "python",
   "name": "python3"
  },
  "language_info": {
   "codemirror_mode": {
    "name": "ipython",
    "version": 3
   },
   "file_extension": ".py",
   "mimetype": "text/x-python",
   "name": "python",
   "nbconvert_exporter": "python",
   "pygments_lexer": "ipython3",
   "version": "3.8.8"
  }
 },
 "nbformat": 4,
 "nbformat_minor": 4
}
